{
 "cells": [
  {
   "cell_type": "code",
   "execution_count": 4,
   "id": "58f02c7b-33ae-43c4-9555-5e0a536686dd",
   "metadata": {},
   "outputs": [
    {
     "name": "stderr",
     "output_type": "stream",
     "text": [
      "/opt/anaconda3/envs/blip2_env/lib/python3.9/site-packages/requests/__init__.py:86: RequestsDependencyWarning: Unable to find acceptable character detection dependency (chardet or charset_normalizer).\n",
      "  warnings.warn(\n"
     ]
    }
   ],
   "source": [
    "import chromadb\n",
    "\n",
    "# Initialize a persistent client\n",
    "client = chromadb.PersistentClient(path=\"./chroma_db\")  # Saves to disk"
   ]
  },
  {
   "cell_type": "code",
   "execution_count": 5,
   "id": "9f95a424-7631-4b58-9f19-b2a5e47e05b2",
   "metadata": {},
   "outputs": [],
   "source": [
    "import chromadb\n",
    "\n",
    "# Initialize a persistent client\n",
    "client = chromadb.PersistentClient(path=\"./chroma_db\")  # Saves to disk"
   ]
  },
  {
   "cell_type": "code",
   "execution_count": 6,
   "id": "78b9bf75-8092-4c72-8fcf-ef58b545c685",
   "metadata": {},
   "outputs": [],
   "source": [
    "collection = client.create_collection(name=\"food_embeddings\")"
   ]
  },
  {
   "cell_type": "code",
   "execution_count": 7,
   "id": "dabcb68c-a884-4745-a938-0e6211a47f5f",
   "metadata": {},
   "outputs": [],
   "source": [
    "# Mock embeddings\n",
    "embeddings = [\n",
    "    [0.1, 0.2, 0.3],  # Fake embedding for \"apple\"\n",
    "]\n",
    "\n",
    "# Metadata and IDs\n",
    "metadatas = [{\"food_name\": \"apple\"}]\n",
    "ids = [\"1\"]\n",
    "\n",
    "# Add to collection\n",
    "collection.add(\n",
    "    embeddings=embeddings,\n",
    "    metadatas=metadatas,\n",
    "    ids=ids\n",
    ")"
   ]
  },
  {
   "cell_type": "code",
   "execution_count": 8,
   "id": "6de4bcdb-1e1f-4da6-880a-654d6dd6ca5b",
   "metadata": {},
   "outputs": [],
   "source": [
    "embeddings = [\n",
    "    [0.3, 0.1, 0.9],  # Fake embedding for \"apple\"\n",
    "]\n",
    "\n",
    "# Metadata and IDs\n",
    "metadatas = [{\"food_name\": \"banana\"}]\n",
    "ids = [\"2\"]\n",
    "\n",
    "# Add to collection\n",
    "collection.add(\n",
    "    embeddings=embeddings,\n",
    "    metadatas=metadatas,\n",
    "    ids=ids\n",
    ")"
   ]
  },
  {
   "cell_type": "code",
   "execution_count": 13,
   "id": "92e2860a-48bd-47c9-b8e0-e2d6c7c28161",
   "metadata": {},
   "outputs": [],
   "source": [
    "results = collection.query(\n",
    "    query_embeddings=[[0.3, 0.1, 0.1]],  # Close to \"apple\"\n",
    "    n_results=1                              # Return top match\n",
    ")"
   ]
  },
  {
   "cell_type": "code",
   "execution_count": 14,
   "id": "ea732e53-159d-4475-a13e-2af74fb26f2f",
   "metadata": {},
   "outputs": [
    {
     "data": {
      "text/plain": [
       "{'ids': [['1']],\n",
       " 'embeddings': None,\n",
       " 'documents': [[None]],\n",
       " 'uris': None,\n",
       " 'included': ['metadatas', 'documents', 'distances'],\n",
       " 'data': None,\n",
       " 'metadatas': [[{'food_name': 'apple'}]],\n",
       " 'distances': [[0.09000001847743988]]}"
      ]
     },
     "execution_count": 14,
     "metadata": {},
     "output_type": "execute_result"
    }
   ],
   "source": [
    "results"
   ]
  },
  {
   "cell_type": "code",
   "execution_count": null,
   "id": "5b15a239-7e70-40d3-8e37-7618542e37b2",
   "metadata": {},
   "outputs": [],
   "source": []
  },
  {
   "cell_type": "code",
   "execution_count": null,
   "id": "be41321c-b979-4634-96ab-fc46e1835dfb",
   "metadata": {},
   "outputs": [],
   "source": []
  },
  {
   "cell_type": "markdown",
   "id": "0d1a4be8-e4d0-4448-9058-854d3a698e97",
   "metadata": {},
   "source": [
    "# FastAPI"
   ]
  },
  {
   "cell_type": "code",
   "execution_count": null,
   "id": "706d2477-c453-4431-a642-81fcb3a30154",
   "metadata": {},
   "outputs": [],
   "source": []
  },
  {
   "cell_type": "code",
   "execution_count": null,
   "id": "d1b4d6f7-f255-46df-89dd-09499a897c54",
   "metadata": {},
   "outputs": [],
   "source": []
  }
 ],
 "metadata": {
  "kernelspec": {
   "display_name": "blip2_env (Python 3.9)",
   "language": "python",
   "name": "blip2_env"
  },
  "language_info": {
   "codemirror_mode": {
    "name": "ipython",
    "version": 3
   },
   "file_extension": ".py",
   "mimetype": "text/x-python",
   "name": "python",
   "nbconvert_exporter": "python",
   "pygments_lexer": "ipython3",
   "version": "3.9.23"
  }
 },
 "nbformat": 4,
 "nbformat_minor": 5
}
