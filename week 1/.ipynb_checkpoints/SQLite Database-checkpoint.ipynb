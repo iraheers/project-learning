{
 "cells": [
  {
   "cell_type": "code",
   "execution_count": 3,
   "id": "c6ac81f6-765b-4b3b-b1cd-9cd7a150f25d",
   "metadata": {},
   "outputs": [
    {
     "data": {
      "text/plain": [
       "True"
      ]
     },
     "execution_count": 3,
     "metadata": {},
     "output_type": "execute_result"
    }
   ],
   "source": [
    "# import torch\n",
    "\n",
    "# torch.backends.mps.is_available()"
   ]
  },
  {
   "cell_type": "code",
   "execution_count": 2,
   "id": "ecad62bd-3909-4784-ba2e-80dd1523f7be",
   "metadata": {},
   "outputs": [],
   "source": [
    "import sqlite3\n",
    "\n",
    "# Create or connect to database\n",
    "conn = sqlite3.connect('nutrition.db')\n",
    "cursor = conn.cursor()\n",
    "\n",
    "# Create foods table with nutrition columns\n",
    "cursor.execute('''\n",
    "CREATE TABLE IF NOT EXISTS foods (\n",
    "    id INTEGER PRIMARY KEY AUTOINCREMENT,\n",
    "    name TEXT NOT NULL UNIQUE,\n",
    "    calories REAL NOT NULL,\n",
    "    protein REAL NOT NULL,\n",
    "    carbs REAL NOT NULL,\n",
    "    fat REAL NOT NULL,\n",
    "    serving_size TEXT DEFAULT '100g'\n",
    ")\n",
    "''')\n",
    "\n",
    "# Commit and close\n",
    "conn.commit()\n",
    "conn.close()"
   ]
  },
  {
   "cell_type": "code",
   "execution_count": 3,
   "id": "e9327e56-9306-4301-bdd0-ec5f4a64d841",
   "metadata": {},
   "outputs": [],
   "source": [
    "import sqlite3"
   ]
  },
  {
   "cell_type": "code",
   "execution_count": 4,
   "id": "b2e5df84-d16f-4e76-ae84-c51bce33b670",
   "metadata": {},
   "outputs": [
    {
     "name": "stdout",
     "output_type": "stream",
     "text": [
      "Skipping duplicate: fried rice\n",
      "Skipping duplicate: chicken_wings\n",
      "Skipping duplicate: hamburger\n"
     ]
    }
   ],
   "source": [
    "# nutrition_data = [\n",
    "#     # Format: (name, calories, protein, carbs, fat, serving_size)\n",
    "#     ('apple', 52, 0.3, 14, 0.2, '1 medium (182g)'),\n",
    "#     ('banana', 89, 1.1, 23, 0.3, '1 medium (118g)'),\n",
    "#     ('chicken breast', 165, 31, 0, 3.6, ''),\n",
    "#     ('white rice', 130, 2.7, 28, 0.3, '1 cup cooked (158g)'),\n",
    "#     ('salmon', 208, 20, 0, 13, ''),\n",
    "#     ('broccoli', 34, 2.8, 7, 0.4, ''),\n",
    "#     ('egg', 143, 13, 1.1, 9.5, '1 large (50g)'),\n",
    "#     ('whole wheat bread', 247, 13, 41, 3.4, '2 slices (56g)'),\n",
    "#     ('milk', 42, 3.4, 5, 1, '100ml'),\n",
    "#     ('yogurt', 59, 10, 3.6, 0.4, '100g'),\n",
    "#     ('pasta', 131, 5, 25, 1.1, '1 cup cooked (140g)'),\n",
    "#     ('potato', 77, 2, 17, 0.1, '1 medium (173g)'),\n",
    "#     ('tomato', 18, 0.9, 3.9, 0.2, ''),\n",
    "#     ('avocado', 160, 2, 9, 15, '1/2 fruit (68g)'),\n",
    "#     ('cheese', 402, 25, 1.3, 33, ''),\n",
    "#     ('orange', 47, 0.9, 12, 0.1, '1 medium (131g)'),\n",
    "#     ('almonds', 579, 21, 22, 50, '1 oz (28g)'),\n",
    "#     ('dark chocolate', 546, 4.9, 61, 31, '100g'),\n",
    "#     ('olive oil', 884, 0, 0, 100, '1 tbsp (14g)'),\n",
    "#     ('onion', 40, 1.1, 9, 0.1, '')\n",
    "# ]\n",
    "\n",
    "nutrition_data = [\n",
    "    # Format: (name, calories, protein, carbs, fat, serving_size)\n",
    "    ('fried rice', 52, 0.3, 14, 0.2, '1 medium (182g)'),\n",
    "    ('chicken_wings', 89, 1.1, 23, 0.3, '1 medium (118g)'),\n",
    "    ('hamburger', 165, 31, 0, 3.6, ''),\n",
    "]\n",
    "\n",
    "# Insert data\n",
    "conn = sqlite3.connect('nutrition.db')\n",
    "cursor = conn.cursor()\n",
    "\n",
    "for food in nutrition_data:\n",
    "    try:\n",
    "        cursor.execute('''\n",
    "        INSERT INTO foods (name, calories, protein, carbs, fat, serving_size)\n",
    "        VALUES (?, ?, ?, ?, ?, ?)\n",
    "        ''', food)\n",
    "    except sqlite3.IntegrityError:\n",
    "        print(f\"Skipping duplicate: {food[0]}\")\n",
    "\n",
    "conn.commit()\n",
    "conn.close()"
   ]
  },
  {
   "cell_type": "code",
   "execution_count": 7,
   "id": "56c8efa1-4c47-40d5-a0f9-4529c8adb2a2",
   "metadata": {},
   "outputs": [
    {
     "name": "stdout",
     "output_type": "stream",
     "text": [
      "Food                 Calories   protein        \n",
      "---------------------------------------------\n",
      "1                    apple      52.0           \n",
      "2                    banana     89.0           \n",
      "3                    chicken breast 165.0          \n",
      "4                    white rice 130.0          \n",
      "5                    salmon     208.0          \n",
      "6                    broccoli   34.0           \n",
      "7                    egg        143.0          \n",
      "8                    whole wheat bread 247.0          \n",
      "9                    milk       42.0           \n",
      "10                   yogurt     59.0           \n",
      "11                   pasta      131.0          \n",
      "12                   potato     77.0           \n",
      "13                   tomato     18.0           \n",
      "14                   avocado    160.0          \n",
      "15                   cheese     402.0          \n",
      "16                   orange     47.0           \n",
      "17                   almonds    579.0          \n",
      "18                   dark chocolate 546.0          \n",
      "19                   olive oil  884.0          \n",
      "20                   onion      40.0           \n",
      "21                   fried rice 52.0           \n",
      "22                   chicken_wings 89.0           \n",
      "23                   hamburger  165.0          \n"
     ]
    }
   ],
   "source": [
    "conn = sqlite3.connect('nutrition.db')\n",
    "cursor = conn.cursor()\n",
    "\n",
    "# Get all foods\n",
    "cursor.execute(\"SELECT * FROM foods\")\n",
    "print(\"{:<20} {:<10} {:<15} {:<15} {:<15} {:<15}\".format(\"Food\", \"Calories\",\"protein\", \"carbs\", \"fat\",\"Serving Size\"))\n",
    "print(\"-\"*45)\n",
    "for row in cursor.fetchall():\n",
    "    print(\"{:<20} {:<10} {:<15}\".format(row[0], row[1], row[2], row[3], row[4], row[5]))\n",
    "\n",
    "conn.close()"
   ]
  },
  {
   "cell_type": "code",
   "execution_count": null,
   "id": "ba9ee83c-dfe0-4ea6-bc40-7c5d15125b94",
   "metadata": {},
   "outputs": [],
   "source": []
  },
  {
   "cell_type": "code",
   "execution_count": null,
   "id": "256c6dba-afb9-4b31-9eed-7b850754e5a2",
   "metadata": {},
   "outputs": [],
   "source": []
  },
  {
   "cell_type": "code",
   "execution_count": null,
   "id": "bb978a0a-5f63-498c-9cb1-e672878de42c",
   "metadata": {},
   "outputs": [],
   "source": []
  },
  {
   "cell_type": "markdown",
   "id": "59254c1b-5128-4ccc-b86e-cbd01034f08f",
   "metadata": {},
   "source": [
    "# Nutrition5K"
   ]
  },
  {
   "cell_type": "code",
   "execution_count": null,
   "id": "701dd53d-095d-42e2-a7da-3691f53ee4ba",
   "metadata": {},
   "outputs": [],
   "source": [
    "git clone https://github.com/google-research-datasets/Nutrition5k.git"
   ]
  },
  {
   "cell_type": "code",
   "execution_count": null,
   "id": "72048635-036c-4da3-93b4-fa1feaa831a5",
   "metadata": {},
   "outputs": [],
   "source": [
    "import pandas as pd\n",
    "\n",
    "# Load nutrition metadata\n",
    "nutrition_df = pd.read_csv(\"Nutrition5k/nutritional_info.csv\") \n",
    "\n",
    "# Sample output: dish_id | calories | fat (g) | carbs (g) | protein (g)\n",
    "print(nutrition_df.head())"
   ]
  },
  {
   "cell_type": "code",
   "execution_count": null,
   "id": "07692d88-8985-4334-ba37-fc90afed62e0",
   "metadata": {},
   "outputs": [],
   "source": [
    "from PIL import Image\n",
    "import os\n",
    "\n",
    "# Get image paths\n",
    "image_dir = \"Nutrition5k/imagery/realsense_overhead\"\n",
    "dish_id = \"12345\"  # Example ID\n",
    "image_path = f\"{image_dir}/{dish_id}_rgb.png\"\n",
    "\n",
    "# Load image + nutrition data\n",
    "image = Image.open(image_path)\n",
    "nutrition = nutrition_df[nutrition_df['dish_id'] == int(dish_id)]\n",
    "\n",
    "print(nutrition[['calories', 'fat (g)', 'carbs (g)', 'protein (g)']])"
   ]
  },
  {
   "cell_type": "code",
   "execution_count": null,
   "id": "5468d207-b05f-41b6-b936-a5867b88476c",
   "metadata": {},
   "outputs": [],
   "source": [
    "import sqlite3\n",
    "\n",
    "conn = sqlite3.connect('nutrition5k.db')\n",
    "nutrition_df.to_sql('dishes', conn, if_exists='replace', index=False)\n",
    "conn.close()"
   ]
  },
  {
   "cell_type": "code",
   "execution_count": null,
   "id": "5785a99b-26ce-4b47-92e0-971858b7caf3",
   "metadata": {},
   "outputs": [],
   "source": []
  },
  {
   "cell_type": "code",
   "execution_count": null,
   "id": "cb12bd6e-eee2-43dc-94dd-440e2d1a40d4",
   "metadata": {},
   "outputs": [],
   "source": []
  },
  {
   "cell_type": "code",
   "execution_count": null,
   "id": "abb636d9-6df9-44fc-8c44-942e44b8758a",
   "metadata": {},
   "outputs": [],
   "source": []
  },
  {
   "cell_type": "code",
   "execution_count": null,
   "id": "bc91ecad-befd-407d-9b6b-a5c9463910e3",
   "metadata": {},
   "outputs": [],
   "source": []
  },
  {
   "cell_type": "code",
   "execution_count": null,
   "id": "51fbfe2c-0998-44c9-9cea-c46eaf72bd64",
   "metadata": {},
   "outputs": [],
   "source": []
  },
  {
   "cell_type": "code",
   "execution_count": null,
   "id": "f64dc4d2-c681-47d3-92c7-3a6bd6505623",
   "metadata": {},
   "outputs": [],
   "source": []
  },
  {
   "cell_type": "code",
   "execution_count": null,
   "id": "4d636269-41fe-459b-b687-63d3ee72ef12",
   "metadata": {},
   "outputs": [],
   "source": []
  },
  {
   "cell_type": "code",
   "execution_count": null,
   "id": "bf16550f-2df5-4ad7-8d35-c32e68582297",
   "metadata": {},
   "outputs": [],
   "source": []
  },
  {
   "cell_type": "code",
   "execution_count": null,
   "id": "134cf823-1bf0-48db-9c7f-f11f0561e15a",
   "metadata": {},
   "outputs": [],
   "source": []
  }
 ],
 "metadata": {
  "kernelspec": {
   "display_name": "blip2_env (Python 3.9)",
   "language": "python",
   "name": "blip2_env"
  },
  "language_info": {
   "codemirror_mode": {
    "name": "ipython",
    "version": 3
   },
   "file_extension": ".py",
   "mimetype": "text/x-python",
   "name": "python",
   "nbconvert_exporter": "python",
   "pygments_lexer": "ipython3",
   "version": "3.9.23"
  }
 },
 "nbformat": 4,
 "nbformat_minor": 5
}
