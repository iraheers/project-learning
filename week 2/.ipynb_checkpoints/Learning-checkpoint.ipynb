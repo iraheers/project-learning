{
 "cells": [
  {
   "cell_type": "code",
   "execution_count": 9,
   "id": "474cb406-546a-4c50-9158-594c7fe23d38",
   "metadata": {},
   "outputs": [
    {
     "name": "stdout",
     "output_type": "stream",
     "text": [
      "{'response': ' Bananas are a good source of energy and contain approximately 90-120 calories per medium-sized banana, depending on the exact size. They are also rich in dietary fiber, vitamins, and minerals, making them a healthy and convenient snack option. '}\n"
     ]
    }
   ],
   "source": [
    "import requests\n",
    "from dotenv import load_dotenv\n",
    "import os\n",
    "\n",
    "load_dotenv()\n",
    "\n",
    "url = \"http://127.0.0.1:8000/generate?prompt=How many calories does bananas have?\"\n",
    "headers = {\"x-api-key\": os.getenv(\"API_KEY\"), \"Content-Type\": \"application/json\"}\n",
    "\n",
    "response = requests.post(url, headers=headers)\n",
    "print(response.json())"
   ]
  },
  {
   "cell_type": "code",
   "execution_count": null,
   "id": "1f0573d6-5919-46c5-b3ab-215eda2e4230",
   "metadata": {},
   "outputs": [],
   "source": []
  },
  {
   "cell_type": "code",
   "execution_count": 7,
   "id": "5f5fabff-7060-415b-a0c2-5be7b3b5547f",
   "metadata": {},
   "outputs": [],
   "source": []
  },
  {
   "cell_type": "code",
   "execution_count": 22,
   "id": "88eca543-81c5-413f-9b9b-7f277826c51a",
   "metadata": {},
   "outputs": [],
   "source": [
    "from langchain_ollama.llms import OllamaLLM\n",
    "from langchain_core.prompts import ChatPromptTemplate\n",
    "from vector import retriever\n",
    "\n",
    "model = OllamaLLM(model=\"llava\")\n",
    "\n",
    "# passing variables reviews and questions\n",
    "template = \"\"\"\n",
    "You are an exeprt in answering questions about a pizza restaurant\n",
    "\n",
    "Here are some relevant reviews: {reviews}\n",
    "\n",
    "Here is the question to answer: {question}\n",
    "\"\"\"\n",
    "prompt = ChatPromptTemplate.from_template(template)\n",
    "chain = prompt | model # prompt will be passed automatically to the model\n"
   ]
  },
  {
   "cell_type": "code",
   "execution_count": 20,
   "id": "c2aad953-a42d-4502-a981-61128d563c74",
   "metadata": {},
   "outputs": [
    {
     "data": {
      "text/plain": [
       "' According to the United States Department of Agriculture, a medium-sized banana (approximately 6 inches long) has approximately 105 calories. However, this number can vary slightly depending on the exact size and ripeness of the banana. '"
      ]
     },
     "execution_count": 20,
     "metadata": {},
     "output_type": "execute_result"
    }
   ],
   "source": [
    "#pass the valiasbles to invoke \n",
    "\n",
    "chain.invoke({\"reviews\":[],\n",
    "              \"question\": \"How many calories does a banana have?\"\n",
    "             })"
   ]
  },
  {
   "cell_type": "code",
   "execution_count": 23,
   "id": "fbc04c1e-53f8-4e0e-835d-2f25e9b71cad",
   "metadata": {},
   "outputs": [
    {
     "name": "stdout",
     "output_type": "stream",
     "text": [
      "\n",
      "\n",
      "-------------------------------\n"
     ]
    },
    {
     "name": "stdin",
     "output_type": "stream",
     "text": [
      "Ask your question (q to quit):  how are you?\n"
     ]
    },
    {
     "name": "stdout",
     "output_type": "stream",
     "text": [
      "\n",
      "\n",
      "\n",
      " As an AI language model, I don't have feelings or personal experiences, so my \"mood\" doesn't change based on anything. However, I'm here to help you analyze these reviews! Based on the information provided in the reviews, it seems that this pizza restaurant has some inconsistencies in quality and service, as well as issues with noise levels and cleanliness. The food itself appears to be decent, but patrons might have a less enjoyable experience due to the issues mentioned. \n",
      "\n",
      "\n",
      "-------------------------------\n"
     ]
    },
    {
     "name": "stdin",
     "output_type": "stream",
     "text": [
      "Ask your question (q to quit):  Tell me 2 best pizza restaurants.\n"
     ]
    },
    {
     "name": "stdout",
     "output_type": "stream",
     "text": [
      "\n",
      "\n",
      "\n",
      " Based on the reviews provided, here are two highly recommended pizza restaurants:\n",
      "\n",
      "1. The first one is mentioned in the review with ID '0'. It has a rating of 5 and is praised for its crispy crust, excellent ratio of sauce to cheese, and a wide variety of options including dessert pizzas. It's also said to be excellent for takeout.\n",
      "2. The second one is mentioned in the review with ID '60'. It has a rating of 5 and is known for its outstanding variety of options, traditional and creative specialties, and customizable choices. It's also praised for their knowledgeable staff and beer pairing suggestions. \n",
      "\n",
      "\n",
      "-------------------------------\n"
     ]
    },
    {
     "name": "stdin",
     "output_type": "stream",
     "text": [
      "Ask your question (q to quit):  what was my previous question\n"
     ]
    },
    {
     "name": "stdout",
     "output_type": "stream",
     "text": [
      "\n",
      "\n",
      "\n",
      " I'm sorry, but it seems you forgot to provide a specific question for me to answer. Can you please clarify or ask a question regarding the pizza restaurant reviews you provided? \n",
      "\n",
      "\n",
      "-------------------------------\n"
     ]
    },
    {
     "name": "stdin",
     "output_type": "stream",
     "text": [
      "Ask your question (q to quit):  can you provide a recap on our conversation?\n"
     ]
    },
    {
     "name": "stdout",
     "output_type": "stream",
     "text": [
      "\n",
      "\n",
      "\n",
      " Sure! We discussed reviews of a pizza restaurant from various dates in 2024. The overall impression seems to be mixed, with some people praising the quality of the pizza but criticizing issues like noise level, inconsistent quality control, slow service and delivery, cleanliness concerns, and long wait times. It appears that while the pizza itself may be good, there are challenges in terms of service and environment that some customers find problematic. \n",
      "\n",
      "\n",
      "-------------------------------\n"
     ]
    },
    {
     "name": "stdin",
     "output_type": "stream",
     "text": [
      "Ask your question (q to quit):  what was my first question in this conversation\n"
     ]
    },
    {
     "name": "stdout",
     "output_type": "stream",
     "text": [
      "\n",
      "\n",
      "\n",
      " I'm sorry, but it appears that you did not provide any specific questions or prompts for me to answer. As an AI language model, I am here to help with questions and provide information to the best of my ability based on the input provided to me. If you have a specific question about this pizza restaurant, feel free to ask and I will do my best to assist you. \n",
      "\n",
      "\n",
      "-------------------------------\n"
     ]
    },
    {
     "name": "stdin",
     "output_type": "stream",
     "text": [
      "Ask your question (q to quit):  q\n"
     ]
    },
    {
     "name": "stdout",
     "output_type": "stream",
     "text": [
      "\n",
      "\n",
      "\n"
     ]
    }
   ],
   "source": [
    "\n",
    "while True:\n",
    "    print(\"\\n\\n-------------------------------\")\n",
    "    question = input(\"Ask your question (q to quit): \")\n",
    "    print(\"\\n\\n\")\n",
    "    if question == \"q\":\n",
    "        break\n",
    "    \n",
    "    reviews = retriever.invoke(question)\n",
    "    result = chain.invoke({\"reviews\": reviews, \"question\": question})\n",
    "    print(result)"
   ]
  },
  {
   "cell_type": "code",
   "execution_count": null,
   "id": "40627b93-94d2-47d2-a44c-f473d110cdc3",
   "metadata": {},
   "outputs": [],
   "source": []
  },
  {
   "cell_type": "code",
   "execution_count": 25,
   "id": "66ecd86d-fe94-4c71-ac9f-e3cd01b9a531",
   "metadata": {},
   "outputs": [],
   "source": [
    "from torchvision.datasets import Food101\n",
    "data = Food101(root=os.path.expanduser(\"~/.cache\"), download=True, split = 'train')"
   ]
  },
  {
   "cell_type": "code",
   "execution_count": 26,
   "id": "3c632afe-1a85-4f9f-96d1-39dbf10984f0",
   "metadata": {},
   "outputs": [
    {
     "name": "stdout",
     "output_type": "stream",
     "text": [
      "Dataset Food101\n",
      "    Number of datapoints: 75750\n",
      "    Root location: /Users/sreehari/.cache\n",
      "    split=train\n"
     ]
    }
   ],
   "source": [
    "print(data)"
   ]
  },
  {
   "cell_type": "code",
   "execution_count": 30,
   "id": "78014335-9833-4ae1-b825-1c5f207e4ddc",
   "metadata": {},
   "outputs": [
    {
     "name": "stdout",
     "output_type": "stream",
     "text": [
      "                 name  calories  protein  carbs    fat\n",
      "0               apple      52.0      0.3   14.0    0.2\n",
      "1              banana      89.0      1.1   23.0    0.3\n",
      "2      chicken breast     165.0     31.0    0.0    3.6\n",
      "3          white rice     130.0      2.7   28.0    0.3\n",
      "4              salmon     208.0     20.0    0.0   13.0\n",
      "5            broccoli      34.0      2.8    7.0    0.4\n",
      "6                 egg     143.0     13.0    1.1    9.5\n",
      "7   whole wheat bread     247.0     13.0   41.0    3.4\n",
      "8                milk      42.0      3.4    5.0    1.0\n",
      "9              yogurt      59.0     10.0    3.6    0.4\n",
      "10              pasta     131.0      5.0   25.0    1.1\n",
      "11             potato      77.0      2.0   17.0    0.1\n",
      "12             tomato      18.0      0.9    3.9    0.2\n",
      "13            avocado     160.0      2.0    9.0   15.0\n",
      "14             cheese     402.0     25.0    1.3   33.0\n",
      "15             orange      47.0      0.9   12.0    0.1\n",
      "16            almonds     579.0     21.0   22.0   50.0\n",
      "17     dark chocolate     546.0      4.9   61.0   31.0\n",
      "18          olive oil     884.0      0.0    0.0  100.0\n",
      "19              onion      40.0      1.1    9.0    0.1\n",
      "20         fried rice      52.0      0.3   14.0    0.2\n",
      "21      chicken_wings      89.0      1.1   23.0    0.3\n",
      "22          hamburger     165.0     31.0    0.0    3.6\n"
     ]
    }
   ],
   "source": [
    "from langchain_ollama import OllamaEmbeddings #\n",
    "from langchain_chroma import Chroma\n",
    "from langchain_core.documents import Document\n",
    "import os\n",
    "import pandas as pd\n",
    "import sqlite3\n",
    "\n",
    "\n",
    "conn = sqlite3.connect('nutrition.db')\n",
    "df = pd.read_sql_query(\"SELECT name, calories, protein, carbs, fat FROM foods\", conn)\n",
    "conn.close()\n",
    "\n",
    "print(df)"
   ]
  },
  {
   "cell_type": "code",
   "execution_count": 32,
   "id": "60a30014-4675-4093-9f82-aee3c4249b7a",
   "metadata": {},
   "outputs": [],
   "source": [
    "from langchain_community.llms import Ollama\n",
    "\n",
    "# Initialize Ollama LLM\n",
    "llm = Ollama(\n",
    "    model=\"llama3\",\n",
    "    #model=\"llava\",\n",
    "    temperature=0.3   # Reduce randomness for factual responses\n",
    ")"
   ]
  },
  {
   "cell_type": "code",
   "execution_count": 33,
   "id": "29637138-62a3-4044-a525-7165338f99a9",
   "metadata": {},
   "outputs": [
    {
     "name": "stdout",
     "output_type": "stream",
     "text": [
      " I'm sorry, but as an AI language model, I am not able to view images or analyze their content. The information about the number of calories in a meal typically requires knowledge of the ingredients and portion sizes used in its preparation. \n"
     ]
    }
   ],
   "source": [
    "from langchain_community.llms import Ollama\n",
    "from langchain_core.prompts import ChatPromptTemplate\n",
    "\n",
    "# Initialize the LLaVA model (supports images)\n",
    "model = Ollama(model=\"llava\")\n",
    "\n",
    "# Template that accepts both image and text input\n",
    "template = \"\"\"\n",
    "You are a nutrition expert analyzing food images.\n",
    "\n",
    "Here is the nutritional context (if provided): {details}\n",
    "\n",
    "Here is the image of the food: <image>\n",
    "Analyze it and answer: {question}\n",
    "\"\"\"\n",
    "\n",
    "prompt = ChatPromptTemplate.from_template(template)\n",
    "\n",
    "# Create the chain\n",
    "chain = prompt | model\n",
    "\n",
    "# Run with both image and text inputs\n",
    "response = chain.invoke({\n",
    "    \"details\": \"Optional nutritional context text\",  # Can be empty\n",
    "    \"question\": \"How many calories are in this meal?\",\n",
    "    \"image\": \"'./test_images/pizza1.jpg'\"  # Ollama will automatically process the image\n",
    "})\n",
    "\n",
    "print(response)"
   ]
  },
  {
   "cell_type": "code",
   "execution_count": null,
   "id": "36c5410b-d30b-45df-ace8-79983f145fcb",
   "metadata": {},
   "outputs": [],
   "source": []
  },
  {
   "cell_type": "code",
   "execution_count": null,
   "id": "159050b6-90d1-4335-b5cf-bc145183564b",
   "metadata": {},
   "outputs": [],
   "source": []
  },
  {
   "cell_type": "code",
   "execution_count": null,
   "id": "70256d96-4206-4e37-9232-6c6397245710",
   "metadata": {},
   "outputs": [],
   "source": []
  },
  {
   "cell_type": "code",
   "execution_count": null,
   "id": "f73bb56e-d8ce-461b-a52e-c68fadeba06e",
   "metadata": {},
   "outputs": [],
   "source": []
  },
  {
   "cell_type": "code",
   "execution_count": null,
   "id": "cd1c4a0a-6643-4cf8-9c24-d0f694f01f61",
   "metadata": {},
   "outputs": [],
   "source": []
  },
  {
   "cell_type": "code",
   "execution_count": null,
   "id": "0037d8d2-0408-463f-abb0-1a2675b6ae27",
   "metadata": {},
   "outputs": [
    {
     "name": "stdout",
     "output_type": "stream",
     "text": [
      "\n",
      "\n",
      "-------------------------------\n"
     ]
    },
    {
     "name": "stdin",
     "output_type": "stream",
     "text": [
      "Ask your question (q to quit):  hello\n"
     ]
    },
    {
     "name": "stdout",
     "output_type": "stream",
     "text": [
      "\n",
      "\n",
      "\n"
     ]
    }
   ],
   "source": [
    "import base64\n",
    "from io import BytesIO\n",
    "from langchain_ollama.llms import OllamaLLM\n",
    "from langchain_core.prompts import ChatPromptTemplate\n",
    "from vector import retriever\n",
    "from PIL import Image\n",
    "import os\n",
    "\n",
    "model = OllamaLLM(model=\"llava\")\n",
    "\n",
    "# Updated template to handle both text and image inputs\n",
    "template = \"\"\"\n",
    "You are an expert in answering questions about foods and their nutrition.\n",
    "\n",
    "Here are the nutritional information of some foods: {details}\n",
    "\n",
    "Here is the question to answer: {question}\n",
    "\n",
    "If an image is provided, analyze it to provide relevant nutritional information or context.\n",
    "\"\"\"\n",
    "prompt = ChatPromptTemplate.from_template(template)\n",
    "chain = prompt | model\n",
    "\n",
    "def image_to_base64(image):\n",
    "    \"\"\"Convert PIL Image to base64 string\"\"\"\n",
    "    buffered = BytesIO()\n",
    "    image.save(buffered, format=\"PNG\")\n",
    "    return base64.b64encode(buffered.getvalue()).decode()\n",
    "\n",
    "while True:\n",
    "    print(\"\\n\\n-------------------------------\")\n",
    "    question = input(\"Ask your question (q to quit): \")\n",
    "    print(\"\\n\\n\")\n",
    "    \n",
    "    if question == \"q\":\n",
    "        break\n",
    "    \n",
    "    # Get nutritional details from retriever\n",
    "    details = retriever.invoke(question)\n",
    "    \n",
    "    # Handle image input\n",
    "    image_result = None\n",
    "    image_path = input(\"Enter image path (press Enter to skip): \").strip()\n",
    "    \n",
    "    if image_path and os.path.exists(image_path):\n",
    "        try:\n",
    "            image = Image.open(image_path)\n",
    "            # Convert image to base64 for LLaVA\n",
    "            image_result = image_to_base64(image)\n",
    "            print()\n",
    "            print(\"Image successfully loaded and processed.\")\n",
    "        except Exception as e:\n",
    "            print(f\"Error processing image: {e}\")\n",
    "            image_result = None\n",
    "    else:\n",
    "        print(\"No image provided or invalid path.\")\n",
    "    \n",
    "    # Invoke the chain with both text and image inputs\n",
    "    result = chain.invoke({\n",
    "        \"details\": details,\n",
    "        \"question\": question,\n",
    "        \"image_result\": image_result\n",
    "    })\n",
    "    print(\"\\nAnswer:\", result)"
   ]
  },
  {
   "cell_type": "code",
   "execution_count": null,
   "id": "c52f454e-f1ef-49d9-a433-879d1cd8c5a3",
   "metadata": {},
   "outputs": [],
   "source": []
  },
  {
   "cell_type": "code",
   "execution_count": null,
   "id": "03e4d66e-aa09-4550-89d1-ec6e824b75cf",
   "metadata": {},
   "outputs": [],
   "source": []
  },
  {
   "cell_type": "code",
   "execution_count": null,
   "id": "65471f38-8297-48d6-b953-871ee9e36cfd",
   "metadata": {},
   "outputs": [],
   "source": []
  },
  {
   "cell_type": "code",
   "execution_count": 2,
   "id": "8d7e3088-cc1f-495c-83ea-7aadefe8ad87",
   "metadata": {},
   "outputs": [
    {
     "name": "stdout",
     "output_type": "stream",
     "text": [
      "Welcome to Nutrition Q&A! Ask questions about food and nutrition.\n",
      "Type 'q' to quit.\n",
      "\n",
      "\n",
      "-------------------------------\n"
     ]
    },
    {
     "name": "stdin",
     "output_type": "stream",
     "text": [
      "Ask your question (q to quit):  hello. My name is sreehari\n"
     ]
    },
    {
     "name": "stdout",
     "output_type": "stream",
     "text": [
      "\n",
      "\n",
      "\n",
      " Hello Sreehari! How can I help you today? \n",
      "\n",
      "\n",
      "-------------------------------\n"
     ]
    },
    {
     "name": "stdin",
     "output_type": "stream",
     "text": [
      "Ask your question (q to quit):  how are you?\n"
     ]
    },
    {
     "name": "stdout",
     "output_type": "stream",
     "text": [
      "\n",
      "\n",
      "\n",
      " As an AI language model, I don't have feelings or emotions, so I am always \"on\" and ready to assist you with any questions you may have. How can I help you today? \n",
      "\n",
      "\n",
      "-------------------------------\n"
     ]
    },
    {
     "name": "stdin",
     "output_type": "stream",
     "text": [
      "Ask your question (q to quit):  what's my name?\n"
     ]
    },
    {
     "name": "stdout",
     "output_type": "stream",
     "text": [
      "\n",
      "\n",
      "\n",
      " Your name is Sreehari. Is there anything else I can help you with? \n",
      "\n",
      "\n",
      "-------------------------------\n"
     ]
    },
    {
     "name": "stdin",
     "output_type": "stream",
     "text": [
      "Ask your question (q to quit):  q\n"
     ]
    },
    {
     "name": "stdout",
     "output_type": "stream",
     "text": [
      "\n",
      "\n",
      "\n"
     ]
    }
   ],
   "source": [
    "from langchain_ollama.llms import OllamaLLM\n",
    "from langchain_core.prompts import ChatPromptTemplate, MessagesPlaceholder\n",
    "from langchain_core.chat_history import InMemoryChatMessageHistory\n",
    "from langchain_core.runnables.history import RunnableWithMessageHistory\n",
    "from vector import retriever\n",
    "\n",
    "model = OllamaLLM(model=\"llava\")\n",
    "\n",
    "# Template with conversation history\n",
    "template = \"\"\"\n",
    "You are an expert in answering questions about foods and their nutrition.\n",
    "\n",
    "Conversation history:\n",
    "{chat_history}\n",
    "\n",
    "Here are the nutritional information of some foods: {details}\n",
    "\n",
    "Here is the question to answer: {question}\n",
    "\"\"\"\n",
    "prompt = ChatPromptTemplate.from_messages([\n",
    "    (\"system\", template),\n",
    "    MessagesPlaceholder(variable_name=\"chat_history\"),\n",
    "    (\"human\", \"{question}\")\n",
    "])\n",
    "\n",
    "# Create chain\n",
    "chain = prompt | model\n",
    "\n",
    "# Initialize chat history store\n",
    "chat_history_store = {}\n",
    "\n",
    "def get_session_history(session_id: str):\n",
    "    if session_id not in chat_history_store:\n",
    "        chat_history_store[session_id] = InMemoryChatMessageHistory()\n",
    "    return chat_history_store[session_id]\n",
    "\n",
    "# Create agent with message history\n",
    "agent = RunnableWithMessageHistory(\n",
    "    runnable=chain,\n",
    "    get_session_history=get_session_history,\n",
    "    input_messages_key=\"question\",\n",
    "    history_messages_key=\"chat_history\",\n",
    ")\n",
    "\n",
    "session_id = \"nutrition_session\"  # Simple session ID for single user\n",
    "print(\"Welcome to Nutrition Q&A! Ask questions about food and nutrition.\")\n",
    "print(\"Type 'q' to quit.\")\n",
    "\n",
    "while True:\n",
    "    print(\"\\n\\n-------------------------------\")\n",
    "    question = input(\"Ask your question (q to quit): \")\n",
    "    print(\"\\n\\n\")\n",
    "    if question.lower() == \"q\":\n",
    "        break\n",
    "        \n",
    "    details = retriever.invoke(question)\n",
    "    result = agent.invoke(\n",
    "        {\"details\": details, \"question\": question},\n",
    "        config={\"configurable\": {\"session_id\": session_id}}\n",
    "    )\n",
    "    print(result)\n"
   ]
  },
  {
   "cell_type": "code",
   "execution_count": null,
   "id": "55025c39-1366-4d57-a9d6-88acd7ba2493",
   "metadata": {},
   "outputs": [],
   "source": []
  },
  {
   "cell_type": "code",
   "execution_count": null,
   "id": "ad7badac-32e4-4c80-8371-98f54d775327",
   "metadata": {},
   "outputs": [],
   "source": []
  },
  {
   "cell_type": "code",
   "execution_count": null,
   "id": "ba922f88-5baf-48fd-a060-0054780bf65b",
   "metadata": {},
   "outputs": [],
   "source": []
  },
  {
   "cell_type": "code",
   "execution_count": null,
   "id": "739245a6-dc83-44ab-8846-c19a8507c04f",
   "metadata": {},
   "outputs": [],
   "source": []
  },
  {
   "cell_type": "code",
   "execution_count": null,
   "id": "72916981-8f71-47d3-a986-4e71bd10c583",
   "metadata": {},
   "outputs": [],
   "source": []
  },
  {
   "cell_type": "code",
   "execution_count": 8,
   "id": "1a9ab30d-2c60-4e4f-9ea8-c0ba3a301d27",
   "metadata": {},
   "outputs": [
    {
     "name": "stdout",
     "output_type": "stream",
     "text": [
      "\n",
      "\n",
      "-------------------------------\n"
     ]
    },
    {
     "name": "stdin",
     "output_type": "stream",
     "text": [
      "Ask your question (q to quit):  hello\n"
     ]
    },
    {
     "name": "stdout",
     "output_type": "stream",
     "text": [
      "\n",
      "\n",
      "\n",
      " Hello! How can I help you today? Do you have any specific questions about nutrition that I can assist with? \n",
      "\n",
      "\n",
      "-------------------------------\n"
     ]
    },
    {
     "name": "stdin",
     "output_type": "stream",
     "text": [
      "Ask your question (q to quit):  my name is sreehari\n"
     ]
    },
    {
     "name": "stdout",
     "output_type": "stream",
     "text": [
      "\n",
      "\n",
      "\n",
      " Hello Sreehari! How may I assist you today? Do you have any specific questions about nutrition that I can help with? \n",
      "\n",
      "\n",
      "-------------------------------\n"
     ]
    },
    {
     "name": "stdin",
     "output_type": "stream",
     "text": [
      "Ask your question (q to quit):  can you give me the protein content of hamburger?\n"
     ]
    },
    {
     "name": "stdout",
     "output_type": "stream",
     "text": [
      "\n",
      "\n",
      "\n",
      " The protein content of a hamburger, as indicated in the document with ID '22', is 31.0 grams. \n",
      "\n",
      "\n",
      "-------------------------------\n"
     ]
    },
    {
     "name": "stdin",
     "output_type": "stream",
     "text": [
      "Ask your question (q to quit):  what is my name?\n"
     ]
    },
    {
     "name": "stdout",
     "output_type": "stream",
     "text": [
      "\n",
      "\n",
      "\n",
      " Sreehari \n",
      "\n",
      "\n",
      "-------------------------------\n"
     ]
    },
    {
     "name": "stdin",
     "output_type": "stream",
     "text": [
      "Ask your question (q to quit):  what food did we talk about?\n"
     ]
    },
    {
     "name": "stdout",
     "output_type": "stream",
     "text": [
      "\n",
      "\n",
      "\n",
      " The food that was mentioned during our conversation is a hamburger. Its protein content is 31.0 grams. \n",
      "\n",
      "\n",
      "-------------------------------\n"
     ]
    },
    {
     "name": "stdin",
     "output_type": "stream",
     "text": [
      "Ask your question (q to quit):  q\n"
     ]
    },
    {
     "name": "stdout",
     "output_type": "stream",
     "text": [
      "\n",
      "\n",
      "\n"
     ]
    }
   ],
   "source": [
    "from langchain_ollama.llms import OllamaLLM\n",
    "from langchain_core.prompts import ChatPromptTemplate\n",
    "from langchain_core.runnables import RunnableLambda, RunnableMap\n",
    "from langchain.memory import ConversationBufferMemory\n",
    "from vector import retriever\n",
    "from PIL import Image\n",
    "\n",
    "model = OllamaLLM(model=\"llava\")\n",
    "\n",
    "# Prompt template\n",
    "template = \"\"\"\n",
    "You are an expert in answering questions about foods and their nutrition.\n",
    "\n",
    "Conversation history:\n",
    "{history}\n",
    "\n",
    "Here are the nutritional information of some foods: {details}\n",
    "\n",
    "Here is the question to answer: {question}\n",
    "\"\"\"\n",
    "prompt = ChatPromptTemplate.from_template(template)\n",
    "\n",
    "# Memory setup\n",
    "memory = ConversationBufferMemory(memory_key=\"history\", input_key=\"question\", return_messages=False)\n",
    "\n",
    "# chain = prompt | model # prompt will be passed automatically to the model\n",
    "\n",
    "# changed when  ConversationBufferMemory was introduced whcih was built to handle only one user input\n",
    "chain = (\n",
    "    RunnableMap({\n",
    "        \"question\": lambda x: x[\"question\"],\n",
    "        \"details\": lambda x: retriever.invoke(x[\"question\"]),\n",
    "        \"history\": lambda x: memory.load_memory_variables(x)[\"history\"]\n",
    "    })\n",
    "    | prompt\n",
    "    | model\n",
    "    | RunnableLambda(lambda res: {\"response\": res})  # Wrap output for clean access\n",
    ")\n",
    "\n",
    "while True:\n",
    "    print(\"\\n\\n-------------------------------\")\n",
    "    question = input(\"Ask your question (q to quit): \")\n",
    "    print(\"\\n\\n\")\n",
    "    if question == \"q\":\n",
    "        break\n",
    "\n",
    "    result = chain.invoke({\"question\": question})\n",
    "    chain.invoke({\"details\": details, \"question\": question, \"image_result\": image_result})\n",
    "    memory.save_context({\"question\": question}, {\"response\": result[\"response\"]})\n",
    "    print(result[\"response\"])\n"
   ]
  },
  {
   "cell_type": "markdown",
   "id": "c45b9269-9013-4ba0-8a66-4d712eeb2dcf",
   "metadata": {},
   "source": [
    "# Initial Code"
   ]
  },
  {
   "cell_type": "code",
   "execution_count": null,
   "id": "0b6b635c-01ba-4a44-9a71-befbfd86377b",
   "metadata": {},
   "outputs": [],
   "source": [
    "from langchain_ollama.llms import OllamaLLM\n",
    "from langchain_core.prompts import ChatPromptTemplate\n",
    "from vector import retriever\n",
    "from PIL import Image\n",
    "\n",
    "model = OllamaLLM(model=\"llava\")\n",
    "\n",
    "# passing variables reviews and questions\n",
    "template = \"\"\"\n",
    "You are an exeprt in answering questions about foods and their nutrition\n",
    "\n",
    "Here are the nutritional information of some foods: {details}\n",
    "\n",
    "Here is the question to answer: {question}\n",
    "\"\"\"\n",
    "prompt = ChatPromptTemplate.from_template(template)\n",
    "chain = prompt | model # prompt will be passed automatically to the model\n",
    "\n",
    "while True:\n",
    "    print(\"\\n\\n-------------------------------\")\n",
    "    question = input(\"Ask your question (q to quit): \")\n",
    "    print(\"\\n\\n\")\n",
    "    if question == \"q\":\n",
    "        break\n",
    "    \n",
    "    details = retriever.invoke(question)\n",
    "    result = chain.invoke({\"details\": details, \"question\": question, \"image_result\": image_result})\n",
    "    print(result)"
   ]
  },
  {
   "cell_type": "code",
   "execution_count": null,
   "id": "9db2bf41-fc6f-46d7-a10e-f6881cc553fd",
   "metadata": {},
   "outputs": [],
   "source": []
  },
  {
   "cell_type": "code",
   "execution_count": 10,
   "id": "48ad2d45-950e-48dc-95df-c6db7e01d313",
   "metadata": {},
   "outputs": [],
   "source": [
    "import pandas as pd"
   ]
  },
  {
   "cell_type": "code",
   "execution_count": 11,
   "id": "8744981a-2fb6-4bd5-9899-ec0e6ed93b55",
   "metadata": {},
   "outputs": [],
   "source": [
    "df = pd.read_csv(\"FOOD-DATA-GROUP1.csv\")"
   ]
  },
  {
   "cell_type": "code",
   "execution_count": 17,
   "id": "d9845b0e-0890-4472-b3bc-8f0ee7a67388",
   "metadata": {},
   "outputs": [
    {
     "name": "stdout",
     "output_type": "stream",
     "text": [
      "<class 'pandas.core.frame.DataFrame'>\n",
      "RangeIndex: 551 entries, 0 to 550\n",
      "Data columns (total 37 columns):\n",
      " #   Column                Non-Null Count  Dtype  \n",
      "---  ------                --------------  -----  \n",
      " 0   Unnamed: 0.1          551 non-null    int64  \n",
      " 1   Unnamed: 0            551 non-null    int64  \n",
      " 2   food                  551 non-null    object \n",
      " 3   Caloric Value         551 non-null    int64  \n",
      " 4   Fat                   551 non-null    float64\n",
      " 5   Saturated Fats        551 non-null    float64\n",
      " 6   Monounsaturated Fats  551 non-null    float64\n",
      " 7   Polyunsaturated Fats  551 non-null    float64\n",
      " 8   Carbohydrates         551 non-null    float64\n",
      " 9   Sugars                551 non-null    float64\n",
      " 10  Protein               551 non-null    float64\n",
      " 11  Dietary Fiber         551 non-null    float64\n",
      " 12  Cholesterol           551 non-null    float64\n",
      " 13  Sodium                551 non-null    float64\n",
      " 14  Water                 551 non-null    float64\n",
      " 15  Vitamin A             551 non-null    float64\n",
      " 16  Vitamin B1            551 non-null    float64\n",
      " 17  Vitamin B11           551 non-null    float64\n",
      " 18  Vitamin B12           551 non-null    float64\n",
      " 19  Vitamin B2            551 non-null    float64\n",
      " 20  Vitamin B3            551 non-null    float64\n",
      " 21  Vitamin B5            551 non-null    float64\n",
      " 22  Vitamin B6            551 non-null    float64\n",
      " 23  Vitamin C             551 non-null    float64\n",
      " 24  Vitamin D             551 non-null    float64\n",
      " 25  Vitamin E             551 non-null    float64\n",
      " 26  Vitamin K             551 non-null    float64\n",
      " 27  Calcium               551 non-null    float64\n",
      " 28  Copper                551 non-null    float64\n",
      " 29  Iron                  551 non-null    float64\n",
      " 30  Magnesium             551 non-null    float64\n",
      " 31  Manganese             551 non-null    float64\n",
      " 32  Phosphorus            551 non-null    float64\n",
      " 33  Potassium             551 non-null    float64\n",
      " 34  Selenium              551 non-null    float64\n",
      " 35  Zinc                  551 non-null    float64\n",
      " 36  Nutrition Density     551 non-null    float64\n",
      "dtypes: float64(33), int64(3), object(1)\n",
      "memory usage: 159.4+ KB\n"
     ]
    }
   ],
   "source": [
    "df.info()"
   ]
  },
  {
   "cell_type": "code",
   "execution_count": 18,
   "id": "a67de654-6e2c-4cb3-a6d3-3bcca9b79ca4",
   "metadata": {},
   "outputs": [],
   "source": [
    "df_str = df.astype(str)"
   ]
  },
  {
   "cell_type": "code",
   "execution_count": 19,
   "id": "1c66d6ae-3b96-4eab-88d1-78ce6388204f",
   "metadata": {},
   "outputs": [
    {
     "name": "stdout",
     "output_type": "stream",
     "text": [
      "<class 'pandas.core.frame.DataFrame'>\n",
      "RangeIndex: 551 entries, 0 to 550\n",
      "Data columns (total 37 columns):\n",
      " #   Column                Non-Null Count  Dtype \n",
      "---  ------                --------------  ----- \n",
      " 0   Unnamed: 0.1          551 non-null    object\n",
      " 1   Unnamed: 0            551 non-null    object\n",
      " 2   food                  551 non-null    object\n",
      " 3   Caloric Value         551 non-null    object\n",
      " 4   Fat                   551 non-null    object\n",
      " 5   Saturated Fats        551 non-null    object\n",
      " 6   Monounsaturated Fats  551 non-null    object\n",
      " 7   Polyunsaturated Fats  551 non-null    object\n",
      " 8   Carbohydrates         551 non-null    object\n",
      " 9   Sugars                551 non-null    object\n",
      " 10  Protein               551 non-null    object\n",
      " 11  Dietary Fiber         551 non-null    object\n",
      " 12  Cholesterol           551 non-null    object\n",
      " 13  Sodium                551 non-null    object\n",
      " 14  Water                 551 non-null    object\n",
      " 15  Vitamin A             551 non-null    object\n",
      " 16  Vitamin B1            551 non-null    object\n",
      " 17  Vitamin B11           551 non-null    object\n",
      " 18  Vitamin B12           551 non-null    object\n",
      " 19  Vitamin B2            551 non-null    object\n",
      " 20  Vitamin B3            551 non-null    object\n",
      " 21  Vitamin B5            551 non-null    object\n",
      " 22  Vitamin B6            551 non-null    object\n",
      " 23  Vitamin C             551 non-null    object\n",
      " 24  Vitamin D             551 non-null    object\n",
      " 25  Vitamin E             551 non-null    object\n",
      " 26  Vitamin K             551 non-null    object\n",
      " 27  Calcium               551 non-null    object\n",
      " 28  Copper                551 non-null    object\n",
      " 29  Iron                  551 non-null    object\n",
      " 30  Magnesium             551 non-null    object\n",
      " 31  Manganese             551 non-null    object\n",
      " 32  Phosphorus            551 non-null    object\n",
      " 33  Potassium             551 non-null    object\n",
      " 34  Selenium              551 non-null    object\n",
      " 35  Zinc                  551 non-null    object\n",
      " 36  Nutrition Density     551 non-null    object\n",
      "dtypes: object(37)\n",
      "memory usage: 159.4+ KB\n"
     ]
    }
   ],
   "source": [
    "df_str.info()"
   ]
  },
  {
   "cell_type": "code",
   "execution_count": 20,
   "id": "fe6cf266-8b75-48f6-99d1-35ee7d3b349a",
   "metadata": {},
   "outputs": [
    {
     "data": {
      "text/html": [
       "<div>\n",
       "<style scoped>\n",
       "    .dataframe tbody tr th:only-of-type {\n",
       "        vertical-align: middle;\n",
       "    }\n",
       "\n",
       "    .dataframe tbody tr th {\n",
       "        vertical-align: top;\n",
       "    }\n",
       "\n",
       "    .dataframe thead th {\n",
       "        text-align: right;\n",
       "    }\n",
       "</style>\n",
       "<table border=\"1\" class=\"dataframe\">\n",
       "  <thead>\n",
       "    <tr style=\"text-align: right;\">\n",
       "      <th></th>\n",
       "      <th>Unnamed: 0.1</th>\n",
       "      <th>Unnamed: 0</th>\n",
       "      <th>food</th>\n",
       "      <th>Caloric Value</th>\n",
       "      <th>Fat</th>\n",
       "      <th>Saturated Fats</th>\n",
       "      <th>Monounsaturated Fats</th>\n",
       "      <th>Polyunsaturated Fats</th>\n",
       "      <th>Carbohydrates</th>\n",
       "      <th>Sugars</th>\n",
       "      <th>...</th>\n",
       "      <th>Calcium</th>\n",
       "      <th>Copper</th>\n",
       "      <th>Iron</th>\n",
       "      <th>Magnesium</th>\n",
       "      <th>Manganese</th>\n",
       "      <th>Phosphorus</th>\n",
       "      <th>Potassium</th>\n",
       "      <th>Selenium</th>\n",
       "      <th>Zinc</th>\n",
       "      <th>Nutrition Density</th>\n",
       "    </tr>\n",
       "  </thead>\n",
       "  <tbody>\n",
       "    <tr>\n",
       "      <th>0</th>\n",
       "      <td>0</td>\n",
       "      <td>0</td>\n",
       "      <td>cream cheese</td>\n",
       "      <td>51</td>\n",
       "      <td>5.0</td>\n",
       "      <td>2.900</td>\n",
       "      <td>1.300</td>\n",
       "      <td>0.200</td>\n",
       "      <td>0.8</td>\n",
       "      <td>0.500</td>\n",
       "      <td>...</td>\n",
       "      <td>0.008</td>\n",
       "      <td>14.100</td>\n",
       "      <td>0.082</td>\n",
       "      <td>0.027</td>\n",
       "      <td>1.300</td>\n",
       "      <td>0.091</td>\n",
       "      <td>15.5</td>\n",
       "      <td>19.100</td>\n",
       "      <td>0.039</td>\n",
       "      <td>7.070</td>\n",
       "    </tr>\n",
       "    <tr>\n",
       "      <th>1</th>\n",
       "      <td>1</td>\n",
       "      <td>1</td>\n",
       "      <td>neufchatel cheese</td>\n",
       "      <td>215</td>\n",
       "      <td>19.4</td>\n",
       "      <td>10.900</td>\n",
       "      <td>4.900</td>\n",
       "      <td>0.800</td>\n",
       "      <td>3.1</td>\n",
       "      <td>2.700</td>\n",
       "      <td>...</td>\n",
       "      <td>99.500</td>\n",
       "      <td>0.034</td>\n",
       "      <td>0.100</td>\n",
       "      <td>8.500</td>\n",
       "      <td>0.088</td>\n",
       "      <td>117.300</td>\n",
       "      <td>129.2</td>\n",
       "      <td>0.054</td>\n",
       "      <td>0.700</td>\n",
       "      <td>130.100</td>\n",
       "    </tr>\n",
       "    <tr>\n",
       "      <th>2</th>\n",
       "      <td>2</td>\n",
       "      <td>2</td>\n",
       "      <td>requeijao cremoso light catupiry</td>\n",
       "      <td>49</td>\n",
       "      <td>3.6</td>\n",
       "      <td>2.300</td>\n",
       "      <td>0.900</td>\n",
       "      <td>0.000</td>\n",
       "      <td>0.9</td>\n",
       "      <td>3.400</td>\n",
       "      <td>...</td>\n",
       "      <td>0.000</td>\n",
       "      <td>0.000</td>\n",
       "      <td>0.000</td>\n",
       "      <td>0.000</td>\n",
       "      <td>0.000</td>\n",
       "      <td>0.000</td>\n",
       "      <td>0.0</td>\n",
       "      <td>0.000</td>\n",
       "      <td>0.000</td>\n",
       "      <td>5.400</td>\n",
       "    </tr>\n",
       "    <tr>\n",
       "      <th>3</th>\n",
       "      <td>3</td>\n",
       "      <td>3</td>\n",
       "      <td>ricotta cheese</td>\n",
       "      <td>30</td>\n",
       "      <td>2.0</td>\n",
       "      <td>1.300</td>\n",
       "      <td>0.500</td>\n",
       "      <td>0.002</td>\n",
       "      <td>1.5</td>\n",
       "      <td>0.091</td>\n",
       "      <td>...</td>\n",
       "      <td>0.097</td>\n",
       "      <td>41.200</td>\n",
       "      <td>0.097</td>\n",
       "      <td>0.096</td>\n",
       "      <td>4.000</td>\n",
       "      <td>0.024</td>\n",
       "      <td>30.8</td>\n",
       "      <td>43.800</td>\n",
       "      <td>0.035</td>\n",
       "      <td>5.196</td>\n",
       "    </tr>\n",
       "    <tr>\n",
       "      <th>4</th>\n",
       "      <td>4</td>\n",
       "      <td>4</td>\n",
       "      <td>cream cheese low fat</td>\n",
       "      <td>30</td>\n",
       "      <td>2.3</td>\n",
       "      <td>1.400</td>\n",
       "      <td>0.600</td>\n",
       "      <td>0.042</td>\n",
       "      <td>1.2</td>\n",
       "      <td>0.900</td>\n",
       "      <td>...</td>\n",
       "      <td>22.200</td>\n",
       "      <td>0.072</td>\n",
       "      <td>0.008</td>\n",
       "      <td>1.200</td>\n",
       "      <td>0.098</td>\n",
       "      <td>22.800</td>\n",
       "      <td>37.1</td>\n",
       "      <td>0.034</td>\n",
       "      <td>0.053</td>\n",
       "      <td>27.007</td>\n",
       "    </tr>\n",
       "    <tr>\n",
       "      <th>...</th>\n",
       "      <td>...</td>\n",
       "      <td>...</td>\n",
       "      <td>...</td>\n",
       "      <td>...</td>\n",
       "      <td>...</td>\n",
       "      <td>...</td>\n",
       "      <td>...</td>\n",
       "      <td>...</td>\n",
       "      <td>...</td>\n",
       "      <td>...</td>\n",
       "      <td>...</td>\n",
       "      <td>...</td>\n",
       "      <td>...</td>\n",
       "      <td>...</td>\n",
       "      <td>...</td>\n",
       "      <td>...</td>\n",
       "      <td>...</td>\n",
       "      <td>...</td>\n",
       "      <td>...</td>\n",
       "      <td>...</td>\n",
       "      <td>...</td>\n",
       "    </tr>\n",
       "    <tr>\n",
       "      <th>546</th>\n",
       "      <td>546</td>\n",
       "      <td>546</td>\n",
       "      <td>chinook salmon smoked</td>\n",
       "      <td>159</td>\n",
       "      <td>5.9</td>\n",
       "      <td>1.300</td>\n",
       "      <td>2.800</td>\n",
       "      <td>1.400</td>\n",
       "      <td>0.0</td>\n",
       "      <td>0.000</td>\n",
       "      <td>...</td>\n",
       "      <td>15.000</td>\n",
       "      <td>0.300</td>\n",
       "      <td>1.200</td>\n",
       "      <td>24.500</td>\n",
       "      <td>0.055</td>\n",
       "      <td>223.000</td>\n",
       "      <td>238.0</td>\n",
       "      <td>0.027</td>\n",
       "      <td>0.400</td>\n",
       "      <td>47.038</td>\n",
       "    </tr>\n",
       "    <tr>\n",
       "      <th>547</th>\n",
       "      <td>547</td>\n",
       "      <td>547</td>\n",
       "      <td>cisco smoked</td>\n",
       "      <td>50</td>\n",
       "      <td>3.4</td>\n",
       "      <td>0.500</td>\n",
       "      <td>1.600</td>\n",
       "      <td>0.600</td>\n",
       "      <td>0.0</td>\n",
       "      <td>0.000</td>\n",
       "      <td>...</td>\n",
       "      <td>7.400</td>\n",
       "      <td>0.015</td>\n",
       "      <td>0.100</td>\n",
       "      <td>4.800</td>\n",
       "      <td>0.047</td>\n",
       "      <td>42.500</td>\n",
       "      <td>82.9</td>\n",
       "      <td>0.050</td>\n",
       "      <td>0.076</td>\n",
       "      <td>15.576</td>\n",
       "    </tr>\n",
       "    <tr>\n",
       "      <th>548</th>\n",
       "      <td>548</td>\n",
       "      <td>548</td>\n",
       "      <td>haddock smoked</td>\n",
       "      <td>33</td>\n",
       "      <td>0.3</td>\n",
       "      <td>0.049</td>\n",
       "      <td>0.006</td>\n",
       "      <td>0.055</td>\n",
       "      <td>0.0</td>\n",
       "      <td>0.000</td>\n",
       "      <td>...</td>\n",
       "      <td>13.900</td>\n",
       "      <td>0.001</td>\n",
       "      <td>0.400</td>\n",
       "      <td>15.300</td>\n",
       "      <td>0.075</td>\n",
       "      <td>71.000</td>\n",
       "      <td>117.4</td>\n",
       "      <td>0.063</td>\n",
       "      <td>0.100</td>\n",
       "      <td>21.719</td>\n",
       "    </tr>\n",
       "    <tr>\n",
       "      <th>549</th>\n",
       "      <td>549</td>\n",
       "      <td>549</td>\n",
       "      <td>whitefish smoked</td>\n",
       "      <td>147</td>\n",
       "      <td>1.3</td>\n",
       "      <td>0.300</td>\n",
       "      <td>0.400</td>\n",
       "      <td>0.400</td>\n",
       "      <td>0.0</td>\n",
       "      <td>0.000</td>\n",
       "      <td>...</td>\n",
       "      <td>24.500</td>\n",
       "      <td>0.400</td>\n",
       "      <td>0.700</td>\n",
       "      <td>31.300</td>\n",
       "      <td>0.091</td>\n",
       "      <td>179.500</td>\n",
       "      <td>575.3</td>\n",
       "      <td>0.030</td>\n",
       "      <td>0.700</td>\n",
       "      <td>58.398</td>\n",
       "    </tr>\n",
       "    <tr>\n",
       "      <th>550</th>\n",
       "      <td>550</td>\n",
       "      <td>550</td>\n",
       "      <td>red salmon sockeye filets smoked</td>\n",
       "      <td>373</td>\n",
       "      <td>12.3</td>\n",
       "      <td>2.800</td>\n",
       "      <td>4.300</td>\n",
       "      <td>3.700</td>\n",
       "      <td>0.0</td>\n",
       "      <td>0.000</td>\n",
       "      <td>...</td>\n",
       "      <td>62.600</td>\n",
       "      <td>0.200</td>\n",
       "      <td>1.100</td>\n",
       "      <td>62.600</td>\n",
       "      <td>0.048</td>\n",
       "      <td>702.000</td>\n",
       "      <td>1036.8</td>\n",
       "      <td>0.026</td>\n",
       "      <td>1.200</td>\n",
       "      <td>141.587</td>\n",
       "    </tr>\n",
       "  </tbody>\n",
       "</table>\n",
       "<p>551 rows × 37 columns</p>\n",
       "</div>"
      ],
      "text/plain": [
       "     Unnamed: 0.1  Unnamed: 0                              food  \\\n",
       "0               0           0                      cream cheese   \n",
       "1               1           1                 neufchatel cheese   \n",
       "2               2           2  requeijao cremoso light catupiry   \n",
       "3               3           3                    ricotta cheese   \n",
       "4               4           4              cream cheese low fat   \n",
       "..            ...         ...                               ...   \n",
       "546           546         546             chinook salmon smoked   \n",
       "547           547         547                      cisco smoked   \n",
       "548           548         548                    haddock smoked   \n",
       "549           549         549                  whitefish smoked   \n",
       "550           550         550  red salmon sockeye filets smoked   \n",
       "\n",
       "     Caloric Value   Fat  Saturated Fats  Monounsaturated Fats  \\\n",
       "0               51   5.0           2.900                 1.300   \n",
       "1              215  19.4          10.900                 4.900   \n",
       "2               49   3.6           2.300                 0.900   \n",
       "3               30   2.0           1.300                 0.500   \n",
       "4               30   2.3           1.400                 0.600   \n",
       "..             ...   ...             ...                   ...   \n",
       "546            159   5.9           1.300                 2.800   \n",
       "547             50   3.4           0.500                 1.600   \n",
       "548             33   0.3           0.049                 0.006   \n",
       "549            147   1.3           0.300                 0.400   \n",
       "550            373  12.3           2.800                 4.300   \n",
       "\n",
       "     Polyunsaturated Fats  Carbohydrates  Sugars  ...  Calcium  Copper   Iron  \\\n",
       "0                   0.200            0.8   0.500  ...    0.008  14.100  0.082   \n",
       "1                   0.800            3.1   2.700  ...   99.500   0.034  0.100   \n",
       "2                   0.000            0.9   3.400  ...    0.000   0.000  0.000   \n",
       "3                   0.002            1.5   0.091  ...    0.097  41.200  0.097   \n",
       "4                   0.042            1.2   0.900  ...   22.200   0.072  0.008   \n",
       "..                    ...            ...     ...  ...      ...     ...    ...   \n",
       "546                 1.400            0.0   0.000  ...   15.000   0.300  1.200   \n",
       "547                 0.600            0.0   0.000  ...    7.400   0.015  0.100   \n",
       "548                 0.055            0.0   0.000  ...   13.900   0.001  0.400   \n",
       "549                 0.400            0.0   0.000  ...   24.500   0.400  0.700   \n",
       "550                 3.700            0.0   0.000  ...   62.600   0.200  1.100   \n",
       "\n",
       "     Magnesium  Manganese  Phosphorus  Potassium  Selenium   Zinc  \\\n",
       "0        0.027      1.300       0.091       15.5    19.100  0.039   \n",
       "1        8.500      0.088     117.300      129.2     0.054  0.700   \n",
       "2        0.000      0.000       0.000        0.0     0.000  0.000   \n",
       "3        0.096      4.000       0.024       30.8    43.800  0.035   \n",
       "4        1.200      0.098      22.800       37.1     0.034  0.053   \n",
       "..         ...        ...         ...        ...       ...    ...   \n",
       "546     24.500      0.055     223.000      238.0     0.027  0.400   \n",
       "547      4.800      0.047      42.500       82.9     0.050  0.076   \n",
       "548     15.300      0.075      71.000      117.4     0.063  0.100   \n",
       "549     31.300      0.091     179.500      575.3     0.030  0.700   \n",
       "550     62.600      0.048     702.000     1036.8     0.026  1.200   \n",
       "\n",
       "     Nutrition Density  \n",
       "0                7.070  \n",
       "1              130.100  \n",
       "2                5.400  \n",
       "3                5.196  \n",
       "4               27.007  \n",
       "..                 ...  \n",
       "546             47.038  \n",
       "547             15.576  \n",
       "548             21.719  \n",
       "549             58.398  \n",
       "550            141.587  \n",
       "\n",
       "[551 rows x 37 columns]"
      ]
     },
     "execution_count": 20,
     "metadata": {},
     "output_type": "execute_result"
    }
   ],
   "source": [
    "df[]"
   ]
  },
  {
   "cell_type": "code",
   "execution_count": 22,
   "id": "285996c9-6496-4576-bc54-71340c034549",
   "metadata": {},
   "outputs": [],
   "source": [
    "# fast api\n",
    "def get_caption(image_path) -> str:\n",
    "    \"\"\"Returns nutrition data (calories, protein, carbs, fat) for a given food item by querying the FastAPI endpoint.\"\"\"\n",
    "    try:\n",
    "        response = requests.get(f\"http://localhost:8000/food/{food_name}\")\n",
    "        if response.status_code == 200:\n",
    "            result = response.json()\n",
    "\n",
    "            return result\n",
    "    except Exception as e:\n",
    "        return f\"Error fetching nutrition data: {str(e)}\""
   ]
  },
  {
   "cell_type": "code",
   "execution_count": 23,
   "id": "21d7866a-4320-42ae-916e-259ceffb7add",
   "metadata": {},
   "outputs": [
    {
     "data": {
      "text/plain": [
       "\"Error fetching nutrition data: name 'requests' is not defined\""
      ]
     },
     "execution_count": 23,
     "metadata": {},
     "output_type": "execute_result"
    }
   ],
   "source": [
    "get_nutrition(\"rice\")"
   ]
  },
  {
   "cell_type": "code",
   "execution_count": null,
   "id": "4860d1a0-ce9d-4934-b0d2-a6b1e80aedc0",
   "metadata": {},
   "outputs": [],
   "source": []
  }
 ],
 "metadata": {
  "kernelspec": {
   "display_name": "blip2_env (Python 3.9)",
   "language": "python",
   "name": "blip2_env"
  },
  "language_info": {
   "codemirror_mode": {
    "name": "ipython",
    "version": 3
   },
   "file_extension": ".py",
   "mimetype": "text/x-python",
   "name": "python",
   "nbconvert_exporter": "python",
   "pygments_lexer": "ipython3",
   "version": "3.9.23"
  }
 },
 "nbformat": 4,
 "nbformat_minor": 5
}
